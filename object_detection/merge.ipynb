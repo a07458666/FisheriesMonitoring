{
 "cells": [
  {
   "cell_type": "code",
   "execution_count": 2,
   "metadata": {},
   "outputs": [],
   "source": [
    "import pandas as pd\n",
    "from os import listdir\n",
    "import csv\n",
    "yolo_csv = pd.read_csv(\"answer.csv\")\n",
    "swin_csv = pd.read_csv(\"eval_swin_transformer_large_384_2021-12-20-15-44-08-add01.csv\")\n",
    "\n",
    "with open('answer_merge.csv', \"w\", newline=\"\") as csvfile:\n",
    "    writer = csv.writer(csvfile)\n",
    "    writer.writerow([\"image\", \"ALB\", \"BET\", \"DOL\", \"LAG\", \"NoF\", \"OTHER\", \"SHARK\", \"YFT\"])\n",
    "    for yolo, swin in zip(yolo_csv.iterrows(), swin_csv.iterrows()):\n",
    "        # print(yolo[1]['NoF'])\n",
    "        if(yolo[1]['NoF'] > 0.45):\n",
    "            writer.writerow(swin[1])\n",
    "        else:\n",
    "            writer.writerow(yolo[1])"
   ]
  },
  {
   "cell_type": "code",
   "execution_count": null,
   "metadata": {},
   "outputs": [],
   "source": []
  }
 ],
 "metadata": {
  "interpreter": {
   "hash": "24eea33d35beb7947a7dbf0d2cf70a37dd0af72618e43ec7219c729c5f3d4cbe"
  },
  "kernelspec": {
   "display_name": "Python 3",
   "language": "python",
   "name": "python3"
  },
  "language_info": {
   "codemirror_mode": {
    "name": "ipython",
    "version": 3
   },
   "file_extension": ".py",
   "mimetype": "text/x-python",
   "name": "python",
   "nbconvert_exporter": "python",
   "pygments_lexer": "ipython3",
   "version": "3.7.10"
  }
 },
 "nbformat": 4,
 "nbformat_minor": 4
}

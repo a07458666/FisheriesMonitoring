{
 "cells": [
  {
   "cell_type": "code",
   "execution_count": 1,
   "metadata": {},
   "outputs": [],
   "source": [
    "import numpy as np\n",
    "import cv2\n",
    "import os\n",
    "from os import listdir\n",
    "import json\n",
    "from tqdm import tqdm\n",
    "from PIL import Image\n",
    "import shutil"
   ]
  },
  {
   "cell_type": "code",
   "execution_count": null,
   "metadata": {},
   "outputs": [],
   "source": [
    "output = 'train_only_boxes/'\n",
    "os.makedirs(output, exist_ok=True)\n",
    "json_dir = 'rectangle/'\n",
    "train_dir = 'train/'\n",
    "\n",
    "jsons = listdir(json_dir)\n",
    "\n",
    "for json_file in jsons:\n",
    "    print(json_file)\n",
    "    os.makedirs(output + json_file[:-5] +'/', exist_ok=True)\n",
    "    f = open(json_dir + json_file)\n",
    "    data = json.load(f)\n",
    "    f.close()\n",
    "    for dict in tqdm(data):\n",
    "        # print(dict)\n",
    "        index = 0\n",
    "        im = cv2.imread(train_dir + dict['filename'])\n",
    "        for annotation in dict['annotations']:\n",
    "            x = int(annotation['x'])\n",
    "            y = int(annotation['y'])\n",
    "            w = int(annotation['width'])\n",
    "            h = int(annotation['height'])\n",
    "            mask = np.zeros([im.shape[0], im.shape[1]], dtype=np.uint8)\n",
    "            # mask[y0:y1, x0:x1]\n",
    "            mask[y:y+h, x:x+w] = 255\n",
    "            image = cv2.add(im, np.zeros(np.shape(im), dtype=np.uint8), mask=mask)\n",
    "            cv2.imwrite(\n",
    "            output+str(dict['filename'][:-4])+'_'+str(index) + '.jpg', image)\n",
    "            index += 1\n",
    "\n"
   ]
  },
  {
   "cell_type": "code",
   "execution_count": 5,
   "metadata": {},
   "outputs": [
    {
     "name": "stderr",
     "output_type": "stream",
     "text": [
      "  4%|▍         | 9/200 [00:00<00:02, 82.97it/s]"
     ]
    },
    {
     "name": "stdout",
     "output_type": "stream",
     "text": [
      "BET.json\n"
     ]
    },
    {
     "name": "stderr",
     "output_type": "stream",
     "text": [
      "100%|██████████| 200/200 [00:02<00:00, 89.94it/s]\n",
      "  1%|          | 9/734 [00:00<00:08, 84.66it/s]"
     ]
    },
    {
     "name": "stdout",
     "output_type": "stream",
     "text": [
      "YFT.json\n"
     ]
    },
    {
     "name": "stderr",
     "output_type": "stream",
     "text": [
      "100%|██████████| 734/734 [00:07<00:00, 92.47it/s]\n",
      "  6%|▌         | 10/176 [00:00<00:01, 93.59it/s]"
     ]
    },
    {
     "name": "stdout",
     "output_type": "stream",
     "text": [
      "SHARK.json\n"
     ]
    },
    {
     "name": "stderr",
     "output_type": "stream",
     "text": [
      "100%|██████████| 176/176 [00:01<00:00, 89.43it/s]\n",
      "  4%|▎         | 11/299 [00:00<00:02, 101.72it/s]"
     ]
    },
    {
     "name": "stdout",
     "output_type": "stream",
     "text": [
      "OTHER.json\n"
     ]
    },
    {
     "name": "stderr",
     "output_type": "stream",
     "text": [
      "100%|██████████| 299/299 [00:03<00:00, 96.93it/s] \n",
      "  1%|          | 10/1719 [00:00<00:17, 98.60it/s]"
     ]
    },
    {
     "name": "stdout",
     "output_type": "stream",
     "text": [
      "ALB.json\n"
     ]
    },
    {
     "name": "stderr",
     "output_type": "stream",
     "text": [
      "100%|██████████| 1719/1719 [00:17<00:00, 101.03it/s]\n",
      "  7%|▋         | 5/67 [00:00<00:01, 47.05it/s]"
     ]
    },
    {
     "name": "stdout",
     "output_type": "stream",
     "text": [
      "LAG.json\n"
     ]
    },
    {
     "name": "stderr",
     "output_type": "stream",
     "text": [
      "100%|██████████| 67/67 [00:00<00:00, 74.12it/s]\n",
      "  9%|▉         | 11/117 [00:00<00:01, 100.85it/s]"
     ]
    },
    {
     "name": "stdout",
     "output_type": "stream",
     "text": [
      "DOL.json\n"
     ]
    },
    {
     "name": "stderr",
     "output_type": "stream",
     "text": [
      "100%|██████████| 117/117 [00:01<00:00, 96.13it/s]\n"
     ]
    }
   ],
   "source": [
    "output = \"../../DATA/fish/train_crop/\"\n",
    "os.makedirs(output, exist_ok=True)\n",
    "json_dir = \"rectangle/\"\n",
    "train_dir = \"../../DATA/fish/train/\"\n",
    "\n",
    "jsons = listdir(json_dir)\n",
    "\n",
    "for json_file in jsons:\n",
    "    print(json_file)\n",
    "    os.makedirs(output + json_file[:-5] +'/', exist_ok=True)\n",
    "    f = open(json_dir + json_file)\n",
    "    data = json.load(f)\n",
    "    f.close()\n",
    "    for dict in tqdm(data):\n",
    "        # print(dict)\n",
    "        index = 0\n",
    "        im = cv2.imread(train_dir + dict['filename'])\n",
    "        for annotation in dict['annotations']:\n",
    "            x = int(annotation['x'])\n",
    "            y = int(annotation['y'])\n",
    "            w = int(annotation['width'])\n",
    "            h = int(annotation['height'])\n",
    "            if(x < 0):\n",
    "                x = 0\n",
    "            if(y < 0):\n",
    "                y = 0\n",
    "            crop_img = im\n",
    "            crop_img = crop_img[y:y+h, x:x+w]\n",
    "            cv2.imwrite(\n",
    "            output+str(dict['filename'][:-4])+'_'+str(index) + '.jpg', crop_img)\n",
    "            index += 1\n",
    "\n"
   ]
  },
  {
   "cell_type": "code",
   "execution_count": null,
   "metadata": {},
   "outputs": [],
   "source": []
  }
 ],
 "metadata": {
  "interpreter": {
   "hash": "24eea33d35beb7947a7dbf0d2cf70a37dd0af72618e43ec7219c729c5f3d4cbe"
  },
  "kernelspec": {
   "display_name": "Python 3",
   "language": "python",
   "name": "python3"
  },
  "language_info": {
   "codemirror_mode": {
    "name": "ipython",
    "version": 3
   },
   "file_extension": ".py",
   "mimetype": "text/x-python",
   "name": "python",
   "nbconvert_exporter": "python",
   "pygments_lexer": "ipython3",
   "version": "3.7.10"
  }
 },
 "nbformat": 4,
 "nbformat_minor": 4
}
